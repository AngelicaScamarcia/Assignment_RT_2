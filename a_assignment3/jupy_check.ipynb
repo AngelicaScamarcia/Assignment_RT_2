{
 "cells": [
  {
   "cell_type": "code",
   "execution_count": 285,
   "id": "c1b68694",
   "metadata": {},
   "outputs": [],
   "source": [
    "import rospy\n",
    "import jupyros\n",
    "from IPython.display import display\n",
    "\n",
    "from geometry_msgs.msg import Twist, Vector3    #for cmd_vel topic\n",
    "\n",
    "from jupyros import ros3d\n",
    "from ipywidgets import Button, Layout, ButtonStyle, GridBox, VBox, HBox\n",
    "import ipywidgets as widgets\n",
    "import actionlib\n",
    "import matplotlib.pyplot as plt\n",
    "import tf\n",
    "from nav_msgs.msg import Odometry\n",
    "from sensor_msgs.msg import LaserScan\n",
    "from tf.transformations import quaternion_matrix\n",
    "import numpy as np\n",
    "from matplotlib.animation import FuncAnimation\n",
    "from move_base_msgs.msg import MoveBaseAction, MoveBaseGoal, MoveBaseActionGoal\n",
    "import os  \n",
    "global x\n",
    "global y\n",
    "rospy.init_node('jupy_user_interface')\n"
   ]
  },
  {
   "cell_type": "code",
   "execution_count": 286,
   "id": "582d34f8",
   "metadata": {},
   "outputs": [],
   "source": [
    "def set_cmd_vel(direction):\n",
    "#initialize a Twist object for the publisher\n",
    "    init = Vector3(0, 0, 0)\n",
    "    vel = Twist( init, init)\n",
    "    \n",
    "    lin_vel = 0.5\n",
    "    ang_vel = 0.5\n",
    "    \n",
    "    #define velocity to actuate a direction\n",
    "    if direction == 'u':\n",
    "        vel.linear.x = lin_vel \n",
    "        vel.angular.z = 0\n",
    "    elif direction == 'd':\n",
    "        vel.linear.x = -lin_vel \n",
    "        vel.angular.z = 0\n",
    "    elif direction == 'l':\n",
    "        vel.angular.z = ang_vel\n",
    "        vel.linear.x = 0\n",
    "    elif direction == 'r':\n",
    "        vel.angular.z = -ang_vel\n",
    "        vel.linear.x = 0\n",
    "    \n",
    "    \n",
    "    #initialize the publisher\n",
    "    pub = rospy.Publisher('remap_cmd_vel',Twist, queue_size=10)\n",
    "    \n",
    "    #pubblic on topic remap_cmd_vel to the robot\n",
    "    pub.publish(vel)"
   ]
  },
  {
   "cell_type": "code",
   "execution_count": 287,
   "id": "a6600f01",
   "metadata": {},
   "outputs": [],
   "source": [
    "def drive_interface():\n",
    "    #drive manually the robot and change the driving mode\n",
    "\n",
    "    #display(buttonUP, buttonDOWN, buttonLEFT, buttonRIGHT, buttonPAUSE, toggle)\n",
    "    display(drive)\n",
    "    display(check)\n",
    "    #display(A5)  \n",
    "    \n",
    "    up.on_click(on_button_clicked_U)\n",
    "    down.on_click(on_button_clicked_D)\n",
    "    left.on_click(on_button_clicked_L)\n",
    "    right.on_click(on_button_clicked_R)\n",
    "    \n",
    "    check.observe(check_obstacles, names='value')\n",
    "    \n",
    "    #A5.on_click(on_button_clicked_F)\n",
    "    \n",
    "    #display the ros3d map\n",
    "    display_map()"
   ]
  },
  {
   "cell_type": "code",
   "execution_count": 288,
   "id": "7073f26c",
   "metadata": {},
   "outputs": [],
   "source": [
    "def send_button_action(b):\n",
    "    #if b == s1:\n",
    "        with output:\n",
    "            print(x,y)\n",
    "            x.disabled = True\n",
    "            y.disabled = True\n",
    "            callback_case1(x,y)"
   ]
  },
  {
   "cell_type": "code",
   "execution_count": 289,
   "id": "b4abe856",
   "metadata": {},
   "outputs": [],
   "source": [
    "def case2():  \n",
    "    #display(control)\n",
    "    \n",
    "    drive_interface()\n",
    "\n",
    "def check_obstacles(b):\n",
    "    rospy.set_param(\"/controller\", check.value)"
   ]
  },
  {
   "cell_type": "code",
   "execution_count": 290,
   "id": "7a330955",
   "metadata": {},
   "outputs": [],
   "source": [
    "def callback_case1(x,y):\n",
    "    print(\"i am in the function\")\n",
    "    client = actionlib.SimpleActionClient('move_base', MoveBaseAction)\n",
    "    \n",
    "    #waiting for the connection with the server\n",
    "    print(\"i am waiting\")\n",
    "    client.wait_for_server()\n",
    "    print(\"i passed the wait\")\n",
    "    \n",
    "    #create the goal\n",
    "    goal = MoveBaseGoal()\n",
    "    \n",
    "    #set the goal parameter\n",
    "    goal.target_pose.header.frame_id = 'map'\n",
    "    goal.target_pose.pose.orientation.w = 1\n",
    "    goal.target_pose.pose.position.x = x\n",
    "    goal.target_pose.pose.position.y = y\n",
    "    \n",
    "    #send the goal\n",
    "    client.send_goal(goal)\n",
    "    pub_goal = rospy.Publisher('/move_base/goal', MoveBaseActionGoal, queue_size = 1000)\n",
    "    send_button.on_click(send_button_action)\n",
    "    \n",
    "    finished_within_time = client.wait_for_result(rospy.Duration(60.0))\n",
    "    if not finished_within_time:\n",
    "        client.cancel_goal()\n",
    "        rospy.loginfo(\"Timed out achieving goal\")\n",
    "        return -1\n",
    "    else:\n",
    "        rospy.loginfo(\"Goal succeeded!\")\n",
    "        return 1"
   ]
  },
  {
   "cell_type": "code",
   "execution_count": 291,
   "id": "4e3791d3",
   "metadata": {},
   "outputs": [],
   "source": [
    "def on_button_clicked_U(a):\n",
    "    set_cmd_vel('u')\n",
    "def on_button_clicked_D(a):\n",
    "    set_cmd_vel('d')\n",
    "def on_button_clicked_L(a):\n",
    "    set_cmd_vel('l')\n",
    "def on_button_clicked_R(a):\n",
    "    set_cmd_vel('r')"
   ]
  },
  {
   "cell_type": "code",
   "execution_count": 292,
   "id": "7079fab8",
   "metadata": {},
   "outputs": [],
   "source": [
    "#button activation\n",
    "def on_button_clicked_A1(a):\n",
    "        with output:\n",
    "            print(\"case 1\")\n",
    "            display(x,y,send_button)\n",
    "            send_button.on_click(send_button)\n",
    "            #A4.on_click(callback_case1)\n",
    "            \n",
    "def on_button_clicked_A2(a):\n",
    "        with output:\n",
    "            display(velocity)\n",
    "            case2()\n",
    "            print(\"case 2\")\n",
    "            \n",
    "def on_button_clicked_A3(a):\n",
    "        with output:\n",
    "            case2()\n",
    "            print(\"case 3\")\n",
    "            check.observe(check_obstacles, names='value')\n",
    "            display(check)\n",
    "               \n",
    "  "
   ]
  },
  {
   "cell_type": "code",
   "execution_count": 293,
   "id": "7ef9d71e",
   "metadata": {},
   "outputs": [],
   "source": [
    "#driving buttons\n",
    "up = Button(description='UP', layout=Layout(grid_area='b1'))\n",
    "left = Button(description='LEFT', layout=Layout(grid_area='b2'))\n",
    "right = Button(description='RIGHT', layout=Layout( grid_area='b3'))\n",
    "down = Button(description='DOWN', layout=Layout(grid_area='b4'))\n",
    "\n",
    "HBox([VBox([right, down]),VBox([up, left])])\n",
    "\n",
    "drive=GridBox(children=[up, left, right, down],layout=Layout(width='50%', grid_template_rows='auto auto',\n",
    "    grid_template_columns='33% 33% 33% 33%',\n",
    "    grid_template_areas='''\n",
    "    \" . b1 . \"\n",
    "    \"b2 . b3 \"\n",
    "    \" . b4 . \"\n",
    "    ''')\n",
    ")\n",
    "\n",
    "check = widgets.Checkbox(\n",
    "    value = True,\n",
    "    description='active obstacle avoidance'\n",
    ")\n",
    "\n",
    "\n",
    "velocity=widgets.FloatSlider(min=0, max=5, step=0.1, value=10.5, description='velocity control');\n",
    "\n",
    "x = widgets.FloatText(description=\"x coordinate: \")\n",
    "y = widgets.FloatText(description=\"y coordinate: \")\n",
    "\n",
    "\n",
    "send_button = widgets.Button(\n",
    "    value=False,\n",
    "    description='SEND',\n",
    "    disabled=False,\n",
    "    button_style='', \n",
    "    tooltip='Description',\n",
    "    icon='check' \n",
    ")\n"
   ]
  },
  {
   "cell_type": "code",
   "execution_count": 294,
   "id": "440c0d5b",
   "metadata": {
    "scrolled": false
   },
   "outputs": [
    {
     "data": {
      "application/vnd.jupyter.widget-view+json": {
       "model_id": "fd14b3c163134f6cb83a29051b359f72",
       "version_major": 2,
       "version_minor": 0
      },
      "text/plain": [
       "Button(description='choose X and Y', style=ButtonStyle(), tooltip='Description')"
      ]
     },
     "metadata": {},
     "output_type": "display_data"
    },
    {
     "data": {
      "application/vnd.jupyter.widget-view+json": {
       "model_id": "c93356aec0c0480eaeffe97525c805b3",
       "version_major": 2,
       "version_minor": 0
      },
      "text/plain": [
       "Button(description='use keyboard', style=ButtonStyle(), tooltip='Description')"
      ]
     },
     "metadata": {},
     "output_type": "display_data"
    },
    {
     "data": {
      "application/vnd.jupyter.widget-view+json": {
       "model_id": "c73da9f451ad4676a36826b0cb85aa93",
       "version_major": 2,
       "version_minor": 0
      },
      "text/plain": [
       "Button(description='avoid obstacles', style=ButtonStyle(), tooltip='Description')"
      ]
     },
     "metadata": {},
     "output_type": "display_data"
    },
    {
     "data": {
      "application/vnd.jupyter.widget-view+json": {
       "model_id": "ec8031a8e7ad4b8f825064d4a01ff1f7",
       "version_major": 2,
       "version_minor": 0
      },
      "text/plain": [
       "Output()"
      ]
     },
     "metadata": {},
     "output_type": "display_data"
    }
   ],
   "source": [
    "A1 = widgets.Button(\n",
    "    value=False,\n",
    "    description='choose X and Y',\n",
    "    button_style='',\n",
    "    disabled=False, \n",
    "    tooltip='Description',\n",
    ")\n",
    "\n",
    "A2 = widgets.Button(\n",
    "    value=False,\n",
    "    description='use keyboard',\n",
    "    button_style='', \n",
    "    disabled=False,\n",
    "    tooltip='Description',\n",
    ")\n",
    "\n",
    "A3 = widgets.Button(\n",
    "    value=False,\n",
    "    description='avoid obstacles',\n",
    "    button_style='', \n",
    "    disabled=False,\n",
    "    tooltip='Description',\n",
    ")\n",
    "\n",
    "\n",
    "#create an output cell\n",
    "output = widgets.Output()\n",
    "\n",
    "display(A1,A2,A3,output)\n",
    "\n",
    "\n",
    "A1.on_click(on_button_clicked_A1)\n",
    "A2.on_click(on_button_clicked_A2)\n",
    "A3.on_click(on_button_clicked_A3)\n",
    "send_button.on_click(send_button_action)\n"
   ]
  },
  {
   "cell_type": "code",
   "execution_count": 295,
   "id": "2bcc4fb3",
   "metadata": {},
   "outputs": [],
   "source": [
    "def display_map():\n",
    "    \n",
    "    #display a live map of the working enviroment of the robot \n",
    "    v = ros3d.Viewer()\n",
    "    rc = ros3d.ROSConnection(url=\"ws://localhost:9090\")\n",
    "    tf_client = ros3d.TFClient(ros=rc, fixed_frame='map')\n",
    "\n",
    "    laser_view = ros3d.LaserScan(topic=\"/scan\", ros=rc, tf_client=tf_client)\n",
    "    map_view = ros3d.OccupancyGrid(topic=\"/map\", ros=rc, tf_client=tf_client, continuous=True)\n",
    "    path = ros3d.Path(topic=\"/move_base/NavfnROS/plan\", ros=rc,\n",
    "    tf_client=tf_client)\n",
    "    urdf = ros3d.URDFModel(ros=rc, tf_client=tf_client,\n",
    "    path=os.environ.get('JUPYROS_ASSETS_URL', 'http://localhost:3000'))\n",
    "    g = ros3d.GridModel()\n",
    "\n",
    "    #v.objects = [g, laser_view, map_view, path, urdf]\n",
    "    v.objects = [laser_view, map_view, urdf]\n",
    "\n",
    "    display(v)"
   ]
  },
  {
   "cell_type": "code",
   "execution_count": 296,
   "id": "9ed9538d",
   "metadata": {},
   "outputs": [],
   "source": [
    "class Visualiser1:\n",
    "    \n",
    "    index = 0\n",
    "    \n",
    "    def __init__(self):\n",
    "        self.fig, self.ax = plt.subplots()\n",
    "        self.ln, = plt.plot([], [], 'ro')\n",
    "        self.x_data, self.y_data = [] , []\n",
    "    \n",
    "    def plot_init(self):\n",
    "        self.ax.set_xlim( -10, 10)\n",
    "        self.ax.set_ylim( -10, 10)\n",
    "        return self.ln\n",
    "    \n",
    "    def odom_callback(self, msg):\n",
    "        \n",
    "        self.index = self.index+1\n",
    "        \n",
    "        if self.index == 250:\n",
    "            if len(self.y_data) < 500:\n",
    "                self.y_data.append(msg.pose.pose.position.y)\n",
    "            else:\n",
    "                self.y_data.pop(0)\n",
    "                self.y_data.append(msg.pose.pose.position.y)\n",
    "\n",
    "            if len(self.x_data) < 500:\n",
    "                self.x_data.append(msg.pose.pose.position.x)\n",
    "            else:\n",
    "                self.x_data.pop(0)\n",
    "                self.x_data.append(msg.pose.pose.position.x)\n",
    "                \n",
    "            self.index = 0\n",
    "        \n",
    "            \n",
    "    def update_plot(self, frame):\n",
    "        self.ln.set_data(self.x_data, self.y_data)\n",
    "        return self.ln\n",
    "   \n",
    "#polar plot visualizer function\n",
    "class Visualiser2:\n",
    "    \n",
    "    def __init__(self):\n",
    "        self.fig, self.ax = plt.subplots( subplot_kw={'projection': 'polar'} )\n",
    "        self.ln, = plt.plot([], [], 'r.' )\n",
    "        self.theta_data = np.arange( 0, np.pi, np.pi/720.0)   \n",
    "        self.d_data = []\n",
    "    \n",
    "    def plot_init(self):\n",
    "        self.ax.set_rmax(15)\n",
    "        return self.ln\n",
    "    \n",
    "        \n",
    "    def laserScan_callback(self, msg):\n",
    "            self.d_data = msg.ranges\n",
    "    \n",
    "    def update_plot(self, frame):\n",
    "        self.ln.set_data( self.theta_data, self.d_data )\n",
    "        return self.ln"
   ]
  },
  {
   "cell_type": "code",
   "execution_count": 297,
   "id": "efd0ea37",
   "metadata": {},
   "outputs": [
    {
     "data": {
      "image/png": "[encoded data removed]",
      "text/plain": [
       "<Figure size 432x288 with 1 Axes>"
      ]
     },
     "metadata": {
      "needs_background": "light"
     },
     "output_type": "display_data"
    },
    {
     "data": {
      "image/png": "[encoded data removed]",
      "text/plain": [
       "<Figure size 432x288 with 1 Axes>"
      ]
     },
     "metadata": {
      "needs_background": "light"
     },
     "output_type": "display_data"
    },
    {
     "data": {
      "image/png": "[encoded data removed]",
      "text/plain": [
       "<Figure size 432x288 with 1 Axes>"
      ]
     },
     "metadata": {
      "needs_background": "light"
     },
     "output_type": "display_data"
    },
    {
     "data": {
      "text/plain": [
       "Text(0.5, 1.0, 'Laser scan tracked')"
      ]
     },
     "execution_count": 297,
     "metadata": {},
     "output_type": "execute_result"
    },
    {
     "data": {
      "image/png": "[encoded data removed]",
      "text/plain": [
       "<Figure size 432x288 with 1 Axes>"
      ]
     },
     "metadata": {
      "needs_background": "light"
     },
     "output_type": "display_data"
    }
   ],
   "source": [
    "#visualization the position  the robot\n",
    "vis = Visualiser1()\n",
    "sub = rospy.Subscriber('/odom', Odometry, vis.odom_callback)\n",
    "ani = FuncAnimation(vis.fig, vis.update_plot, init_func=vis.plot_init)\n",
    "plt.show(block=True)\n",
    "plt.title(\"Robot position tracked\")\n",
    "\n",
    "#visualization of the lasescaner sensor\n",
    "vis2 = Visualiser2()\n",
    "sub2 = rospy.Subscriber('/scan', LaserScan, vis2.laserScan_callback)\n",
    "ani2 = FuncAnimation(vis2.fig, vis2.update_plot, init_func=vis2.plot_init)\n",
    "plt.show(block=True)\n",
    "plt.title(\"Laser scan tracked\")"
   ]
  },
  {
   "cell_type": "code",
   "execution_count": 298,
   "id": "b0c11fb6",
   "metadata": {},
   "outputs": [
    {
     "data": {
      "image/png": "[encoded data removed]",
      "text/plain": [
       "<Figure size 432x288 with 1 Axes>"
      ]
     },
     "metadata": {
      "needs_background": "light"
     },
     "output_type": "display_data"
    },
    {
     "data": {
      "text/plain": [
       "Text(0.5, 1.0, 'reached and not reached points')"
      ]
     },
     "execution_count": 298,
     "metadata": {},
     "output_type": "execute_result"
    },
    {
     "data": {
      "image/png": "[encoded data removed]",
      "text/plain": [
       "<Figure size 432x288 with 1 Axes>"
      ]
     },
     "metadata": {
      "needs_background": "light"
     },
     "output_type": "display_data"
    }
   ],
   "source": [
    "#histogram cell\n",
    "fig, ax = plt.subplots()\n",
    "_, _, ln, = ax.hist([])\n",
    "\n",
    "def init():\n",
    "    return ln,\n",
    "\n",
    "def update(frame):\n",
    "    ax.hist(reached_task, bins=3, color='green')\n",
    "    return ln,\n",
    "\n",
    "ani3 = FuncAnimation(fig, update, init_func=init)\n",
    "plt.show()\n",
    "plt.title(\"reached and not reached points\")"
   ]
  }
 ],
 "metadata": {
  "hide_input": false,
  "kernelspec": {
   "display_name": "Python 3 (ipykernel)",
   "language": "python",
   "name": "python3"
  },
  "language_info": {
   "codemirror_mode": {
    "name": "ipython",
    "version": 3
   },
   "file_extension": ".py",
   "mimetype": "text/x-python",
   "name": "python",
   "nbconvert_exporter": "python",
   "pygments_lexer": "ipython3",
   "version": "3.8.5"
  },
  "toc": {
   "base_numbering": 1,
   "nav_menu": {},
   "number_sections": true,
   "sideBar": true,
   "skip_h1_title": false,
   "title_cell": "Table of Contents",
   "title_sidebar": "Contents",
   "toc_cell": false,
   "toc_position": {},
   "toc_section_display": true,
   "toc_window_display": false
  },
  "varInspector": {
   "cols": {
    "lenName": 16,
    "lenType": 16,
    "lenVar": 40
   },
   "kernels_config": {
    "python": {
     "delete_cmd_postfix": "",
     "delete_cmd_prefix": "del ",
     "library": "var_list.py",
     "varRefreshCmd": "print(var_dic_list())"
    },
    "r": {
     "delete_cmd_postfix": ") ",
     "delete_cmd_prefix": "rm(",
     "library": "var_list.r",
     "varRefreshCmd": "cat(var_dic_list()) "
    }
   },
   "types_to_exclude": [
    "module",
    "function",
    "builtin_function_or_method",
    "instance",
    "_Feature"
   ],
   "window_display": false
  }
 },
 "nbformat": 4,
 "nbformat_minor": 5
}
